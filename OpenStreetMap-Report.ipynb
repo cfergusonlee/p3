{
 "cells": [
  {
   "cell_type": "markdown",
   "metadata": {
    "deletable": true,
    "editable": true
   },
   "source": [
    "# OpenStreetMap Data Case Study\n",
    "\n",
    "**By: [Courtney Ferguson Lee](https://www.linkedin.com/in/courtneyfergusonlee/)**\n",
    "\n",
    "**Date: April 11, 2017**"
   ]
  },
  {
   "cell_type": "markdown",
   "metadata": {
    "deletable": true,
    "editable": true
   },
   "source": [
    "## Region\n",
    "\n",
    "** [West Springfield, Massachusetts](https://www.openstreetmap.org/relation/1181623)**\n",
    "\n",
    "This is my hometown. Being familiar with the area helped me discover a few inconsistencies in the dataset. When I initially tried to print out all of the street names, many were missing. Not seeing the street I lived on pushed my curiousity and prompted me to explore the dataset further.\n",
    "\n",
    "<img src='https://drive.google.com/uc?export=download&id=0B0YVy8F1XohwOVEtMmExY1FXUkE'>"
   ]
  },
  {
   "cell_type": "markdown",
   "metadata": {
    "deletable": true,
    "editable": true
   },
   "source": [
    "## Process Overview\n",
    "\n",
    "1. Create a smaller file to test\n",
    "2. Clean the data\n",
    " 1. Check for problem characters in each tag\n",
    " 2. Clean up overabbreviated street names\n",
    " 3. Fix incorrect zip codes\n",
    " 4. Standardize phone numbers\n",
    "3. Convert from xml to csv\n",
    "4. Import the cleaned .csv into a SQL database\n",
    "5. Explore the database through queries\n",
    "6. Document"
   ]
  },
  {
   "cell_type": "markdown",
   "metadata": {
    "deletable": true,
    "editable": true
   },
   "source": [
    "## Cleaning the Data\n",
    "\n",
    "Cleaning the data consisted of multiple stages.  The first involved checking all tags for problem characters, then diving deeper into individual tags to make the data more uniform.  Problems can be broken down into the following categories:\n",
    "\n",
    "- Problem characters: (\\$, ?, #, &, etc)\n",
    "- Fixing Street Type Abbreviations (Main St, East Mountain Rd)\n",
    " - 'addr:street' tags\n",
    " - 'name' tags\n",
    "- Incorrect Zip Codes (Springfield MA 00, West Springfield MA 00)\n",
    " - 'address' tags\n",
    " - 'postcode' tags\n",
    "- Non-uniform Phone Numbers (+1 413 3063051, +1  413 5920396)\n",
    " - 'phone' tags"
   ]
  },
  {
   "cell_type": "markdown",
   "metadata": {
    "deletable": true,
    "editable": true
   },
   "source": [
    "### Checking for problem characters\n",
    "\n",
    "This was the first check before cleaning any data.  It helped thinking of this as the first layer in the process.  By eliminating any problem characters first, I could focus on making the remaining data uniform."
   ]
  },
  {
   "cell_type": "code",
   "execution_count": null,
   "metadata": {
    "collapsed": true,
    "deletable": true,
    "editable": true
   },
   "outputs": [],
   "source": [
    "# Checks whether there are problem characters present\n",
    "def is_problem_char(attribute):\n",
    "    m = PROBLEMCHARS.search(attribute)\n",
    "    return m"
   ]
  },
  {
   "cell_type": "markdown",
   "metadata": {
    "deletable": true,
    "editable": true
   },
   "source": [
    "### Fixing Street Type Abbreviations\n",
    "\n",
    "#### Addr: Street Tags\n",
    "\n",
    "This was the first tag type I explored.  Initially I thought all street names would be found here, but initial queries only yielded a few dozen names.  Cleaning up these tags did help me develop a systematic way to clean up subsequent tags, though.  The first thing I did was to audit all 'addr:street' tags to look for any unusual street abbreviations."
   ]
  },
  {
   "cell_type": "code",
   "execution_count": null,
   "metadata": {
    "collapsed": false,
    "deletable": true,
    "editable": true
   },
   "outputs": [],
   "source": [
    "# Checks if it's an 'addr:street' tag\n",
    "if is_street_name(tag):\n",
    "    #print \"Old value: \" + way_tag['value']\n",
    "    way_tag['value'] = update_name(way_tag['value'], mapping)\n",
    "    #print \"New value: \" + way_tag['value']\n"
   ]
  },
  {
   "cell_type": "markdown",
   "metadata": {
    "deletable": true,
    "editable": true
   },
   "source": [
    "I created a dictionary using the street type (Ave, Avenue, Rd, etc) as the key and the specific instance as the value.  I used a regular expression to search for and pull the street type and then I used another regular expression to substitute the proper mapping.  Looking at the data like this helped me develop a plan to map the data and correct any abbreviations.\n",
    "\n",
    "The audit and update process helped me capture problematic addresses in a more complete and systematic way.  It also tested my regular expression skills!"
   ]
  },
  {
   "cell_type": "code",
   "execution_count": null,
   "metadata": {
    "collapsed": true,
    "deletable": true,
    "editable": true
   },
   "outputs": [],
   "source": [
    "\n",
    "def audit_street_type(street_types, street_name):\n",
    "    m = street_type_re.search(street_name)\n",
    "    if m:\n",
    "        street_type = m.group()\n",
    "        if street_type not in expected:\n",
    "            street_types[street_type].add(street_name)\n"
   ]
  },
  {
   "cell_type": "code",
   "execution_count": null,
   "metadata": {
    "collapsed": true,
    "deletable": true,
    "editable": true
   },
   "outputs": [],
   "source": [
    "def update_name(name, mapping):\n",
    "    \n",
    "    updated_name = name\n",
    "    \n",
    "    split_name = re.split(' ', name)\n",
    "    for nm in split_name:\n",
    "        if nm in mapping:\n",
    "            updated_name = re.sub(nm, mapping[nm], updated_name)\n",
    "    \n",
    "    return updated_name"
   ]
  },
  {
   "cell_type": "markdown",
   "metadata": {
    "deletable": true,
    "editable": true
   },
   "source": [
    "#### Street Name Tags\n",
    "\n",
    "Cleaning up street names turned out to be more difficult than expected.  This is because not all street names were stored under the same keys.  Some were stored under 'addr:street' tags, but the vast majority used a combination of 'highway' and 'name' tags.  I couldn't just pull all ways tags with 'name' for a key.  The 'name' tag was also used to identify buildings, parks, etc.  \n",
    "\n",
    "One thing all streets had in common, however was that they had a highway tag. Because tags were parsed iteratively, once a 'name' tag was found I had to loop back to check if there was a 'highway' tag present.  \n",
    "\n",
    "I'm not sure why they chose to map the data like this.  They may have started with one method, but switched over to a different mapping system.  If it were up to me I would put all street names under an 'addr:street' tag but this would probably result in a loss of information."
   ]
  },
  {
   "cell_type": "code",
   "execution_count": null,
   "metadata": {
    "collapsed": true,
    "deletable": true,
    "editable": true
   },
   "outputs": [],
   "source": [
    "# This cleans up name tags\n",
    "if (key_plus_type == 'name'):# or (key_plus_type == 'address'):\n",
    "    # Only name tags that are highways are actual street names\n",
    "    if check_highway(element):\n",
    "        way_tag['value'] = update_name(way_tag['value'], mapping)\n"
   ]
  },
  {
   "cell_type": "markdown",
   "metadata": {
    "deletable": true,
    "editable": true
   },
   "source": [
    "### Incorrect Zip Codes\n",
    "\n",
    "#### Address Tags\n",
    "\n",
    "This part of the process looked at full business addresses in the dataset.  This revealed inconsistencies in postal codes as well as the usual street abbreviations.  Unfortunately, it was not as simple as formating bad zip codes so they were more uniform.  Many zip codes were simply missing and had to be looked up.  Fortunately, the audit and update process helped me look at all non-uniform addresses at once and develop a comprehensive solution."
   ]
  },
  {
   "cell_type": "code",
   "execution_count": null,
   "metadata": {
    "collapsed": true,
    "deletable": true,
    "editable": true
   },
   "outputs": [],
   "source": [
    "# This cleans up address tags\n",
    "elif key_plus_type == 'address':\n",
    "    way_tag['value'] = update_address(way_tag['value'], mapping)"
   ]
  },
  {
   "cell_type": "markdown",
   "metadata": {
    "deletable": true,
    "editable": true
   },
   "source": [
    "To fix the zip codes I looked up the addresses on Google maps and inserted the correct zip codes.  The substitution was carried out using re.sub.  Even though most addresses could be found with a simple lookup, two gave truly unique headaches.  The 31 Springfield Street address was supposed to be for the Chicopee Library but that address did not exist.  There wasn't even a Springfield Street running through that section of town.  The best thing I could do was look it up by the GPS latitude and longitude data and insert that into the value.  The closest match was 13 Center Street.  The other issue was the address for STCC, a local community college.  It was listed as 1 Armoury Square but Armoury Square is a park, not a street.  I changed it to Armoury Street to be more uniform with the rest of the database."
   ]
  },
  {
   "cell_type": "code",
   "execution_count": null,
   "metadata": {
    "collapsed": true,
    "deletable": true,
    "editable": true
   },
   "outputs": [],
   "source": [
    "mapping = { # These street types are abbreviations\n",
    "            \"St\": \"Street\",\n",
    "            \"St \": \"Street\",\n",
    "            \"St  \": \"Street\",\n",
    "            \"St.\": \"Street\",\n",
    "            \"ST\": \"STREET\",\n",
    "            \"Rd.\": \"Road\",\n",
    "            \"Ave\": \"Avenue\",\n",
    "            \"Dr  \": \"Drive\",\n",
    "            \"Dr \": \"Drive\",\n",
    "            \"Dr\": \"Drive\",\n",
    "            \"Dr.\": \"Drive\",\n",
    "           \n",
    "           # These addresses are missing street types\n",
    "            \"36 Margaret, Springfield MA 01105\": \"36 Margaret Street, Springfield MA 01105\",\n",
    "            \"118 Riverdale, West Springfield MA 01089\": \"118 Riverdale Street, West Springfield MA 01089\",\n",
    "            \"587 Grattan, Chicopee MA 01020\": \"587 Grattan Street, Chicopee MA 01020\",\n",
    "            \"63 South, Chicopee MA 01013\": \"63 South Street, Chicopee MA 01013\",\n",
    "           \n",
    "           # These addresses hav incorrect zip code info\n",
    "            '165 Front Street, Chicopee MA 01014-0368': \"165 Front Street, Chicopee, MA 01013\",\n",
    "            '200 Park Street, West Springfield MA 00': \"200 Park Street, West Springfield, MA 01089\",\n",
    "            '220 State Street, Springfield MA 00': \"220 State Street, Springfield, MA 01103\",\n",
    "            '271 Carew Street, Springfield MA 00': \"271 Carew Street, Springfield, MA 01104\",\n",
    "            '271 Carew Street, Springfield, MA': \"271 Carew Street, Springfield, MA 01104\",\n",
    "            '291 Springfield Street, Chicopee MA 00': \"291 Springfield Street, Chicopee, MA 01013\",\n",
    "            '31 Springfield Street, Chicopee MA 00': \"13 Center Street, Chicopee, MA 01013\", #Matched by GPS data\n",
    "            '50 State Street, Springfield MA 00': \"50 State Street, Springfield, MA 01103\",\n",
    "            '516 Carew Street, Springfield, MA': \"516 Carew Street, Springfield, MA 01104\",\n",
    "            '65 Elliot Street, Springfield MA 00': \"65 Elliot Street, Springfield, MA 01105\",\n",
    "            '759 Chestnut Street, Springfield, MA': \"759 Chestnut Street, Springfield, MA 01199\",\n",
    "            '1233 Main St, Holyoke, MA': \"1233 Main Street, Holyoke, MA 01040\",\n",
    "            '1 Armory Square, Springfield MA 00': \"1 Armory Street, Springfield, MA 01105\", # Armory Square is improper, need Armory Street\n",
    "            '91 East Mountain Rd, Westfield, MA': \"91 East Mountain Road, Westfield, MA 01085\",\n",
    "            '32 Ridgewood Place, Springfield MA 01105-1315': \"32 Ridgewood Place, Springfield, MA 01105\",\n",
    "            '1150 West Columbus Avenue, Springfield MA 00': \"1150 West Columbus Avenue, Springfield, MA 01105\"\n",
    "            \n",
    "            }\n"
   ]
  },
  {
   "cell_type": "markdown",
   "metadata": {
    "deletable": true,
    "editable": true
   },
   "source": [
    "#### Postcode Tags\n",
    "\n",
    "After seeing the incorrect zip code in the address tags, I decided to explore postcode tags.  Fortunately after auditing them there were no inconsistencies.  Even though West Springfield has one zip code (01089) the map area I downloaded from Mapzen included some surrounding areas because it was was not an exact town boundary.  Here's the code I used to pull the postal codes:"
   ]
  },
  {
   "cell_type": "code",
   "execution_count": null,
   "metadata": {
    "collapsed": true,
    "deletable": true,
    "editable": true
   },
   "outputs": [],
   "source": [
    "# Checks whether a given element is a postal code\n",
    "def is_post_code(elem):\n",
    "    #return ('post' in elem.attrib['k'])\n",
    "    return (elem.attrib['k'] == \"addr:postcode\")\n",
    "\n",
    "# Creates a dictionary of postal codes\n",
    "def audit_post_code(post_codes, post_code):\n",
    "    m = post_code_re.search(post_code)\n",
    "    if m:\n",
    "        postcode = m.group()\n",
    "        post_codes[postcode].add(post_code)"
   ]
  },
  {
   "cell_type": "markdown",
   "metadata": {
    "deletable": true,
    "editable": true
   },
   "source": [
    "### Non-uniform Phone Numbers"
   ]
  },
  {
   "cell_type": "markdown",
   "metadata": {
    "deletable": true,
    "editable": true
   },
   "source": [
    "Phone tags were relatively simple to format.  Most were in the form xxx.xxx.xxxx.  A few listed the +1 first.  To change this I used a regular expression."
   ]
  },
  {
   "cell_type": "markdown",
   "metadata": {
    "deletable": true,
    "editable": true
   },
   "source": [
    "<img src='https://drive.google.com/uc?export=download&id=0B0YVy8F1XohweGw2MDU2REZ4UVk'>"
   ]
  },
  {
   "cell_type": "code",
   "execution_count": null,
   "metadata": {
    "collapsed": true,
    "deletable": true,
    "editable": true
   },
   "outputs": [],
   "source": [
    "def update_phone(phone):\n",
    "    \n",
    "    updated_phone = phone\n",
    "    \n",
    "    # Splits up phone to look at leading characters\n",
    "    split_phone = phone.split(' ')\n",
    "    \n",
    "    # If phone isn't formated properly, clean it\n",
    "    if split_phone[0] == '+1':\n",
    "        \n",
    "        # This places all phone numbers in xxx.xxx.xxxx format\n",
    "        updated_phone = updated_phone = re.sub(r'..\\s+(\\d\\d\\d)\\s+(\\d\\d\\d)(\\d\\d\\d\\d)', r'\\1-\\2-\\3', phone)\n",
    "    \n",
    "    return updated_phone\n"
   ]
  },
  {
   "cell_type": "markdown",
   "metadata": {
    "deletable": true,
    "editable": true
   },
   "source": [
    "## Conversion from XML to CSV\n",
    "\n",
    "Once all tags were cleaned I used the code provided in the 'Preparing the Database' lesson to create the .csv files."
   ]
  },
  {
   "cell_type": "code",
   "execution_count": null,
   "metadata": {
    "collapsed": true,
    "deletable": true,
    "editable": true
   },
   "outputs": [],
   "source": [
    "# ================================================== #\n",
    "#               Main Function                        #\n",
    "# ================================================== #\n",
    "def process_map(file_in, validate):\n",
    "    \"\"\"Iteratively process each XML element and write to csv(s)\"\"\"\n",
    "\n",
    "    with codecs.open(NODES_PATH, 'w') as nodes_file, \\\n",
    "         codecs.open(NODE_TAGS_PATH, 'w') as nodes_tags_file, \\\n",
    "         codecs.open(WAYS_PATH, 'w') as ways_file, \\\n",
    "         codecs.open(WAY_NODES_PATH, 'w') as way_nodes_file, \\\n",
    "         codecs.open(WAY_TAGS_PATH, 'w') as way_tags_file:\n",
    "\n",
    "        nodes_writer = UnicodeDictWriter(nodes_file, NODE_FIELDS)\n",
    "        node_tags_writer = UnicodeDictWriter(nodes_tags_file, NODE_TAGS_FIELDS)\n",
    "        ways_writer = UnicodeDictWriter(ways_file, WAY_FIELDS)\n",
    "        way_nodes_writer = UnicodeDictWriter(way_nodes_file, WAY_NODES_FIELDS)\n",
    "        way_tags_writer = UnicodeDictWriter(way_tags_file, WAY_TAGS_FIELDS)\n",
    "\n",
    "        nodes_writer.writeheader()\n",
    "        node_tags_writer.writeheader()\n",
    "        ways_writer.writeheader()\n",
    "        way_nodes_writer.writeheader()\n",
    "        way_tags_writer.writeheader()\n",
    "\n",
    "        validator = cerberus.Validator()\n",
    "        \n",
    "\n",
    "        for element in get_element(file_in, tags=('node', 'way')):\n",
    "            el = shape_element(element)\n",
    "            if el:\n",
    "                if validate is True:\n",
    "                    validate_element(el, validator)\n",
    "\n",
    "                if element.tag == 'node':\n",
    "                    nodes_writer.writerow(el['node'])\n",
    "                    node_tags_writer.writerows(el['node_tags'])\n",
    "                elif element.tag == 'way':\n",
    "                    ways_writer.writerow(el['way'])\n",
    "                    way_nodes_writer.writerows(el['way_nodes'])\n",
    "                    way_tags_writer.writerows(el['way_tags'])\n"
   ]
  },
  {
   "cell_type": "markdown",
   "metadata": {
    "deletable": true,
    "editable": true
   },
   "source": [
    "## Importing the Data into SQL\n",
    "\n",
    "I imported the data into sql using python.  Here is a snippet of code I used to import the nodes CSV file into a nodes SQL data base.  The remaining SQL databases were created in a similar manner."
   ]
  },
  {
   "cell_type": "code",
   "execution_count": null,
   "metadata": {
    "collapsed": true,
    "deletable": true,
    "editable": true
   },
   "outputs": [],
   "source": [
    "# Create Nodes Database\n",
    "import sqlite3\n",
    "import csv\n",
    "from pprint import pprint\n",
    "\n",
    "sqlite_file = \"west-springfield.db\"\n",
    "\n",
    "# Connect to the database\n",
    "conn = sqlite3.connect(sqlite_file)\n",
    "\n",
    "'''\n",
    "NODES_PATH = \"nodes.csv\"\n",
    "'''\n",
    "# Get a cursor object\n",
    "cur = conn.cursor()\n",
    "\n",
    "# Before creating the table, drop the table if it already exists\n",
    "cur.execute('DROP TABLE IF EXISTS nodes')\n",
    "conn.commit()\n",
    "\n",
    "# Create the table, specifying the column names and data types:\n",
    "cur.execute('''\n",
    "    CREATE TABLE nodes(id INTEGER primary key, \n",
    "    lat REAL, \n",
    "    lon REAL, \n",
    "    user TEXT references ways, \n",
    "    uid INTEGER references ways, \n",
    "    version TEXT references ways, \n",
    "    changeset INTEGER references ways, \n",
    "    timestamp TEXT references ways)\n",
    "    ''')\n",
    "\n",
    "# commit the changes\n",
    "conn.commit()\n",
    "\n",
    "# Read in the csv file as a dictionary, format the data as a list of tuples:\n",
    "with open('nodes.csv', 'rb') as fin:\n",
    "    dr = csv.DictReader(fin) # comma is default limiter\n",
    "    to_db = [(i['id'], i['lat'], i['lon'], i['user'].decode(\"utf-8\"), i['uid'], i['version'].decode(\"utf-8\"), i['changeset'], i['timestamp'].decode(\"utf-8\")) for i in dr]\n",
    "\n",
    "# insert the formatted data\n",
    "cur.executemany(\"INSERT INTO nodes(id, lat, lon, user, uid, version, changeset, timestamp) VALUES (?, ?, ?, ?, ?, ?, ?, ?);\", to_db)\n",
    "# commit the changes\n",
    "conn.commit()"
   ]
  },
  {
   "cell_type": "markdown",
   "metadata": {
    "deletable": true,
    "editable": true
   },
   "source": [
    "### SQL Schemas\n",
    "\n",
    "Below are the resulting SQL database schemas."
   ]
  },
  {
   "cell_type": "markdown",
   "metadata": {
    "deletable": true,
    "editable": true
   },
   "source": [
    "\n",
    "### <center>Nodes Schema</center>\n",
    "| Columns  | Data Type  | Primary Key  | Foreign Key  |\n",
    "|---|---|---|---|\n",
    "| id  | INTEGER  | YES  | NO  |\n",
    "| lat  |  REAL | NO  | NO  |\n",
    "| lon  |  REAL |  NO | NO  |\n",
    "| user  | TEXT  | NO  | YES  |\n",
    "| uid  | INTEGER  | NO  | YES  |\n",
    "| version  | TEXT  | NO  | YES  |\n",
    "| changeset  | INTEGER  | NO  | YES  |\n",
    "| timestamp  | TEXT  | NO  | YES  |\n",
    "\n",
    "\n",
    "\n",
    "### <center>Nodes Tags Schema</center>\n",
    "\n",
    "| Columns  | Data Type  | Primary Key  |  Foreign Key |\n",
    "|---|---|---|---|\n",
    "| id  | INTEGER  | NO  |  YES |\n",
    "| key  | TEXT  | NO  | NO  |\n",
    "| value  | TEXT  | NO  | NO  |\n",
    "| type  | TEXT  | NO  |  NO |\n",
    "\n",
    "\n"
   ]
  },
  {
   "cell_type": "markdown",
   "metadata": {
    "deletable": true,
    "editable": true
   },
   "source": [
    "\n",
    "### <center>Ways Schema</center>\n",
    "| Columns  | Data Type  | Primary Key  | Foreign Key  |\n",
    "|---|---|---|---|\n",
    "| id  | INTEGER  | YES  | NO  |\n",
    "| user  |  TEXT | NO  | YES  |\n",
    "| uid  |  INTEGER |  NO | YES  |\n",
    "| version  | TEXT  | NO  | YES  |\n",
    "| changeset  | INTEGER  | NO  | YES  |\n",
    "| timestamp  | TEXT  | NO  | YES  |\n",
    "\n",
    "\n",
    "\n",
    "### <center>Ways Nodes Schema</center>\n",
    "| Columns  | Data Type  | Primary Key  | Foreign Key  |\n",
    "|---|---|---|---|\n",
    "| id  | INTEGER  | NO  | YES  |\n",
    "| node_id  |  INTEGER | NO  | YES  |\n",
    "| position  |  INTEGER |  NO | NO  |\n",
    "\n",
    "\n",
    "\n",
    "\n",
    "### <center>Ways Tags Schema</center>\n",
    "| Columns  | Data Type  | Primary Key  | Foreign Key  |\n",
    "|---|---|---|---|\n",
    "| id  | INTEGER  | NO  | YES  |\n",
    "| key  |  TEXT | NO  | NO  |\n",
    "| value  |  TEXT |  NO | NO  |\n",
    "| type  | TEXT  | NO  | NO  |\n"
   ]
  },
  {
   "cell_type": "markdown",
   "metadata": {
    "deletable": true,
    "editable": true
   },
   "source": [
    "## Exploring the SQL Database\n",
    "\n",
    "### Distribution of Postal Codes\n",
    "\n",
    "The postal codes were queried in SQL.  Although the universal zip code for all addresses in West Springfield is 01089, there were a few others that showed up in the dataset.  This is because the map area was not an exact border of the city.  It was a square area that include a few surrounding towns, including Westfield (01085), Chicopee (01013), Springfield (01104) and a few others."
   ]
  },
  {
   "cell_type": "code",
   "execution_count": null,
   "metadata": {
    "collapsed": true,
    "deletable": true,
    "editable": true
   },
   "outputs": [],
   "source": [
    "# This will show the distribution of postal codes\n",
    "db = sqlite3.connect(\"west-springfield.db\")\n",
    "c = db.cursor()\n",
    "query = '''\n",
    "select value, count(*) as total from nodes_tags \n",
    "where key='postcode' group by value order by total desc;\n",
    "'''\n",
    "c.execute(query)\n",
    "rows = c.fetchall()"
   ]
  },
  {
   "cell_type": "markdown",
   "metadata": {
    "deletable": true,
    "editable": true
   },
   "source": [
    "<img src='https://drive.google.com/uc?export=download&id=0B0YVy8F1XohwYkFSSzhQNGJ3Sk0'>"
   ]
  },
  {
   "cell_type": "markdown",
   "metadata": {
    "deletable": true,
    "editable": true
   },
   "source": [
    "### Kinds of Amenities\n",
    "\n",
    "Below is a distribution of the top 10 most prominent amenities in West Springfield.  I was surprised to discover that the number of places of worship in the area outnumber the number of schools.  At first I wanted to take a closer look at the types of restaurants in the area but there are only 15, so it seemed to make more sense to look at amenities as a whole."
   ]
  },
  {
   "cell_type": "code",
   "execution_count": null,
   "metadata": {
    "collapsed": true,
    "deletable": true,
    "editable": true
   },
   "outputs": [],
   "source": [
    "db = sqlite3.connect(\"west-springfield.db\")\n",
    "c = db.cursor()\n",
    "query = '''\n",
    "select value, count(*) as total from nodes_tags\n",
    "where key='amenity'\n",
    "group by value order by total desc;\n",
    "'''\n",
    "c.execute(query)\n",
    "rows = c.fetchall()\n",
    "    \n",
    "df = pd.DataFrame(rows)\n",
    "print df    \n",
    "\n",
    "db.close()"
   ]
  },
  {
   "cell_type": "markdown",
   "metadata": {
    "deletable": true,
    "editable": true
   },
   "source": [
    "<img src='https://drive.google.com/uc?export=download&id=0B0YVy8F1Xohwc09nS1BoYi1JcDg'>"
   ]
  },
  {
   "cell_type": "markdown",
   "metadata": {
    "deletable": true,
    "editable": true
   },
   "source": [
    "### Distribution of Users\n",
    "\n",
    "Below are the top 10 map contributers.  It appears the Office of Geographic Information was responsible for the majority of the data.  I hope to see my name among these some day."
   ]
  },
  {
   "cell_type": "markdown",
   "metadata": {
    "deletable": true,
    "editable": true
   },
   "source": [
    "<img src='https://drive.google.com/uc?export=download&id=0B0YVy8F1XohwcWFrWEM1Zmpvb28'>"
   ]
  },
  {
   "cell_type": "code",
   "execution_count": null,
   "metadata": {
    "collapsed": true,
    "deletable": true,
    "editable": true
   },
   "outputs": [],
   "source": [
    "# This will show the distribution of users\n",
    "db = sqlite3.connect(\"west-springfield.db\")\n",
    "c = db.cursor()\n",
    "query = '''\n",
    "select user, count(*) as total\n",
    "from (select user from nodes union all select user from ways)\n",
    "group by user\n",
    "order by total desc\n",
    "limit 10;\n",
    "'''\n",
    "c.execute(query)\n",
    "rows = c.fetchall()\n",
    "    \n",
    "df = pd.DataFrame(rows)\n",
    "print df    \n",
    "\n",
    "db.close()"
   ]
  },
  {
   "cell_type": "markdown",
   "metadata": {
    "deletable": true,
    "editable": true
   },
   "source": [
    "### Individual User Contributions\n",
    "\n",
    "I was interested in what some of the users actually did to contribute to the project.  It seems MassGIS may have built the dataset initially but I wanted to see how Tomash Pilshchik changed it.  It turns out he focused on  nodes tags by far.\n",
    "\n"
   ]
  },
  {
   "cell_type": "markdown",
   "metadata": {
    "deletable": true,
    "editable": true
   },
   "source": [
    "<img src='https://drive.google.com/uc?export=download&id=0B0YVy8F1XohwdnRJQkF0U0EwTWc'>"
   ]
  },
  {
   "cell_type": "code",
   "execution_count": null,
   "metadata": {
    "collapsed": true,
    "deletable": true,
    "editable": true
   },
   "outputs": [],
   "source": [
    "db = sqlite3.connect(\"west-springfield.db\")\n",
    "c = db.cursor()\n",
    "query = '''\n",
    "select key, count(*) as total\n",
    "from nodes, nodes_tags\n",
    "where nodes.id = nodes_tags.id and user='Tomash Pilshchik'\n",
    "group by key\n",
    "order by total desc;\n",
    "'''\n",
    "c.execute(query)\n",
    "rows = c.fetchall()\n",
    "    \n",
    "df = pd.DataFrame(rows)\n",
    "print df "
   ]
  },
  {
   "cell_type": "markdown",
   "metadata": {
    "deletable": true,
    "editable": true
   },
   "source": [
    "<img src='https://drive.google.com/uc?export=download&id=0B0YVy8F1XohwTU02cjgzNS1PeVk'>"
   ]
  },
  {
   "cell_type": "code",
   "execution_count": null,
   "metadata": {
    "collapsed": true,
    "deletable": true,
    "editable": true
   },
   "outputs": [],
   "source": [
    "db = sqlite3.connect(\"west-springfield.db\")\n",
    "c = db.cursor()\n",
    "query = '''\n",
    "select key, count(*) as total\n",
    "from ways, ways_tags\n",
    "where ways.id = ways_tags.id and user='Tomash Pilshchik'\n",
    "group by key\n",
    "order by total desc;\n",
    "'''\n",
    "c.execute(query)\n",
    "rows = c.fetchall()\n",
    "    \n",
    "df = pd.DataFrame(rows)\n",
    "print df    \n",
    "\n",
    "db.close()"
   ]
  },
  {
   "cell_type": "markdown",
   "metadata": {
    "deletable": true,
    "editable": true
   },
   "source": [
    "## Additional Ideas\n",
    "\n",
    "## Historical Changes\n",
    "\n",
    "Looking over the data, there are a few areas I'd like to explore more but they would require more historical context.  For instance, Broadway shows up 11 times as a street name but there is no street type.  When I looiked it up on Wikipedia, it said some streets in the Town Common were changed from Broadway to Park Street and Park Avenue.  However, without further clues I would have no idea which streets should be mapped to one or the other.  I'm sure City Hall probably has the historical records but I did not get a chance to go.  This might be worth it for the next user to explore.\n",
    "\n",
    "\n",
    "\n",
    "## Special Abbreviations\n",
    "\n",
    "The next step for further exploration would be to check and fix any special abbreviations beyond street types.  For instance the Connecticut River is listed as Connecticut R., but a universal solution wouldn't work there.  If all 'R.' abbreviations were replaced with 'River', it could have unintended consequences.  For instance, the John R. Fausey Elementary School would be changed to the John River Fausey Elementary School.  And while I don't know his middle name, I doubt I'd get that lucky.  There are many opportunities for exploration here."
   ]
  },
  {
   "cell_type": "markdown",
   "metadata": {
    "deletable": true,
    "editable": true
   },
   "source": [
    "<img src='https://drive.google.com/uc?export=download&id=0B0YVy8F1XohwRnUwZm9OcnJ2R2s'>"
   ]
  },
  {
   "cell_type": "markdown",
   "metadata": {
    "deletable": true,
    "editable": true
   },
   "source": [
    "<img src='https://drive.google.com/uc?export=download&id=0B0YVy8F1XohwdG1JNWFBdVBMcjQ'>\n",
    "<img src='https://drive.google.com/uc?export=download&id=0B0YVy8F1XohwanFlSTRLTnMtbmM'>"
   ]
  }
 ],
 "metadata": {
  "anaconda-cloud": {},
  "kernelspec": {
   "display_name": "Python 2",
   "language": "python",
   "name": "python2"
  },
  "language_info": {
   "codemirror_mode": {
    "name": "ipython",
    "version": 2
   },
   "file_extension": ".py",
   "mimetype": "text/x-python",
   "name": "python",
   "nbconvert_exporter": "python",
   "pygments_lexer": "ipython2",
   "version": "2.7.13"
  }
 },
 "nbformat": 4,
 "nbformat_minor": 2
}
